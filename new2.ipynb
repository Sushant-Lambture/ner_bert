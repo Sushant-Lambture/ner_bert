{
 "cells": [
  {
   "cell_type": "code",
   "execution_count": 1,
   "id": "1a09a51f",
   "metadata": {},
   "outputs": [
    {
     "name": "stderr",
     "output_type": "stream",
     "text": [
      "2023-01-11 20:11:50.753807: W tensorflow/stream_executor/platform/default/dso_loader.cc:64] Could not load dynamic library 'libcudart.so.11.0'; dlerror: libcudart.so.11.0: cannot open shared object file: No such file or directory\n",
      "2023-01-11 20:11:50.753846: I tensorflow/stream_executor/cuda/cudart_stub.cc:29] Ignore above cudart dlerror if you do not have a GPU set up on your machine.\n"
     ]
    }
   ],
   "source": [
    "%%capture\n",
    "!pip install transformers\n",
    "\n",
    "import warnings\n",
    "warnings.filterwarnings('ignore')\n",
    "\n",
    "import numpy as np\n",
    "import pandas as pd\n",
    "import seaborn as sns\n",
    "import matplotlib.pyplot as plt\n",
    "from tqdm import tqdm\n",
    "\n",
    "import transformers\n",
    "from transformers import AutoTokenizer\n",
    "from transformers import  DistilBertForTokenClassification\n",
    "\n",
    "from torch.optim import AdamW\n",
    "\n",
    "import torch\n",
    "import torch.nn as nn\n",
    "from torch.optim import SGD\n",
    "import torch.nn.functional as F\n",
    "from torch.utils.data import DataLoader\n",
    "\n",
    "from sklearn.metrics import accuracy_score,f1_score, precision_score, recall_score"
   ]
  },
  {
   "cell_type": "code",
   "execution_count": 3,
   "id": "4c522f81",
   "metadata": {},
   "outputs": [],
   "source": [
    "import pandas as pd\n",
    "import numpy as np\n",
    "\n",
    "N = 1_000\n",
    "df = pd.read_csv(\"/home/sushant/Downloads/ner.csv\").sample(frac=1)[:N]\n",
    "\n",
    "#change columns names\n",
    "df.rename(columns = {'text':'sentence', 'labels':'tags'}, inplace = True)\n",
    "\n",
    "#split train, dev , test sets\n",
    "df_train, df_dev, df_test = np.split(df.sample(frac=1, random_state=42),\n",
    "                            [int(.8 * len(df)), int(.9 * len(df))])"
   ]
  },
  {
   "cell_type": "code",
   "execution_count": 4,
   "id": "b7b93dc8",
   "metadata": {},
   "outputs": [],
   "source": [
    "class DistilbertNER(nn.Module):\n",
    "  \"\"\"\n",
    "  Implement NN class based on distilbert pretrained from Hugging face.\n",
    "  Inputs : \n",
    "    tokens_dim : int specifyng the dimension of the classifier\n",
    "  \"\"\"\n",
    "  \n",
    "  def __init__(self, tokens_dim):\n",
    "    super(DistilbertNER,self).__init__()\n",
    "    \n",
    "    if type(tokens_dim) != int:\n",
    "            raise TypeError('Please tokens_dim should be an integer')\n",
    "\n",
    "    if tokens_dim <= 0:\n",
    "          raise ValueError('Classification layer dimension should be at least 1')\n",
    "\n",
    "    self.pretrained = DistilBertForTokenClassification.from_pretrained(\"distilbert-base-uncased\", num_labels = tokens_dim) #set the output of each token classifier = unique_lables\n",
    "\n",
    "\n",
    "  def forward(self, input_ids, attention_mask, labels = None): #labels are needed in order to compute the loss\n",
    "    \"\"\"\n",
    "  Forwad computation of the network\n",
    "  Input:\n",
    "    - inputs_ids : from model tokenizer\n",
    "    - attention :  mask from model tokenizer\n",
    "    - labels : if given the model is able to return the loss value\n",
    "  \"\"\"\n",
    "\n",
    "    #inference time no labels\n",
    "    if labels == None:\n",
    "      out = self.pretrained(input_ids = input_ids, attention_mask = attention_mask )\n",
    "      return out\n",
    "\n",
    "    out = self.pretrained(input_ids = input_ids, attention_mask = attention_mask , labels = labels)\n",
    "    return out"
   ]
  },
  {
   "cell_type": "code",
   "execution_count": 5,
   "id": "217745ef",
   "metadata": {},
   "outputs": [],
   "source": [
    "class NerDataset(torch.utils.data.Dataset):\n",
    "  \"\"\"\n",
    "  Custom dataset implementation to get (text,labels) tuples\n",
    "  Inputs:\n",
    "   - df : dataframe with columns [tags, sentence]\n",
    "  \"\"\"\n",
    "  \n",
    "  def __init__(self, df):\n",
    "    if not isinstance(df, pd.DataFrame):\n",
    "      raise TypeError('Input should be a dataframe')\n",
    "    \n",
    "    if \"tags\" not in df.columns or \"sentence\" not in df.columns:\n",
    "      raise ValueError(\"Dataframe should contain 'tags' and 'sentence' columns\")\n",
    "\n",
    "     \n",
    "    \n",
    "    tags_list = [i.split() for i in df[\"tags\"].values.tolist()]\n",
    "    texts = df[\"sentence\"].values.tolist()\n",
    "\n",
    "    self.texts = [tokenizer(text, padding = \"max_length\", truncation = True, return_tensors = \"pt\") for text in texts]\n",
    "    self.labels = [match_tokens_labels(text, tags) for text,tags in zip(self.texts, tags_list)]\n",
    "\n",
    "  def __len__(self):\n",
    "    return len(self.labels)\n",
    "\n",
    "  def __getitem__(self, idx):\n",
    "    batch_text = self.texts[idx]\n",
    "    batch_labels = self.labels[idx]\n",
    "\n",
    "    return batch_text, torch.LongTensor(batch_labels)"
   ]
  },
  {
   "cell_type": "code",
   "execution_count": 6,
   "id": "42168a4e",
   "metadata": {},
   "outputs": [],
   "source": [
    "class MetricsTracking():\n",
    "  \"\"\"\n",
    "  In order make the train loop lighter I define this class to track all the metrics that we are going to measure for our model.\n",
    "  \"\"\"\n",
    "  def __init__(self):\n",
    "\n",
    "    self.total_acc = 0\n",
    "    self.total_f1 = 0\n",
    "    self.total_precision = 0\n",
    "    self.total_recall = 0\n",
    "\n",
    "  def update(self, predictions, labels , ignore_token = -100):\n",
    "    '''\n",
    "    Call this function every time you need to update your metrics.\n",
    "    Where in the train there was a -100, were additional token that we dont want to label, so remove them.\n",
    "    If we flatten the batch its easier to access the indexed = -100\n",
    "    '''  \n",
    "    predictions = predictions.flatten()\n",
    "    labels = labels.flatten()\n",
    "    \n",
    "    predictions = predictions[labels != ignore_token]\n",
    "    labels = labels[labels != ignore_token]\n",
    "\n",
    "    predictions = predictions.to(\"cpu\")\n",
    "    labels = labels.to(\"cpu\")\n",
    "\n",
    "    acc = accuracy_score(labels,predictions)\n",
    "    f1 = f1_score(labels, predictions, average = \"macro\")\n",
    "    precision = precision_score(labels, predictions, average = \"macro\")\n",
    "    recall = recall_score(labels, predictions, average = \"macro\")\n",
    "\n",
    "    self.total_acc  += acc\n",
    "    self.total_f1 += f1\n",
    "    self.total_precision += precision\n",
    "    self.total_recall  += recall\n",
    "\n",
    "  def return_avg_metrics(self,data_loader_size):\n",
    "    n = data_loader_size\n",
    "    metrics = {\n",
    "        \"acc\": round(self.total_acc / n ,3), \n",
    "        \"f1\": round(self.total_f1 / n, 3), \n",
    "        \"precision\" : round(self.total_precision / n, 3), \n",
    "        \"recall\": round(self.total_recall / n, 3)\n",
    "          }\n",
    "    return metrics  "
   ]
  },
  {
   "cell_type": "code",
   "execution_count": 8,
   "id": "3e574d0f",
   "metadata": {},
   "outputs": [],
   "source": [
    "def tags_2_labels(tags : str, tag2idx : dict):\n",
    "  '''\n",
    "  Method that takes a list of tags and a dictionary mapping and returns a list of labels (associated).\n",
    "  Used to create the \"label\" column in df from the \"tags\" column.\n",
    "  '''\n",
    "  return [tag2idx[tag] if tag in tag2idx else unseen_label for tag in tags.split()] "
   ]
  },
  {
   "cell_type": "code",
   "execution_count": 9,
   "id": "c9f96a60",
   "metadata": {},
   "outputs": [],
   "source": [
    "def tags_mapping(tags_series : pd.Series):\n",
    "  \"\"\"\n",
    "  tag_series = df column with tags for each sentence.\n",
    "  Returns:\n",
    "    - dictionary mapping tags to indexes (label)\n",
    "    - dictionary mappign inedexes to tags\n",
    "    - The label corresponding to tag 'O'\n",
    "    - A set of unique tags ecountered in the trainind df, this will define the classifier dimension\n",
    "  \"\"\"\n",
    "\n",
    "  if not isinstance(tags_series, pd.Series):\n",
    "      raise TypeError('Input should be a padas Series')\n",
    "\n",
    "  unique_tags = set()\n",
    "  \n",
    "  for tag_list in df_train[\"tags\"]:\n",
    "    for tag in tag_list.split():\n",
    "      unique_tags.add(tag)\n",
    "\n",
    "\n",
    "  tag2idx = {k:v for v,k in enumerate(sorted(unique_tags))}\n",
    "  idx2tag = {k:v for v,k in tag2idx.items()}\n",
    "\n",
    "  unseen_label = tag2idx[\"O\"]\n",
    "\n",
    "  return tag2idx, idx2tag, unseen_label, unique_tags"
   ]
  },
  {
   "cell_type": "code",
   "execution_count": 10,
   "id": "4444bd9a",
   "metadata": {},
   "outputs": [],
   "source": [
    "def match_tokens_labels(tokenized_input, tags, ignore_token = -100):\n",
    "        '''\n",
    "        Used in the custom dataset.\n",
    "        -100 will be tha label used to match additional tokens like [CLS] [PAD] that we dont care about. \n",
    "        Inputs : \n",
    "          - tokenized_input : tokenizer over the imput text -> {input_ids, attention_mask}\n",
    "          - tags : is a single label array -> [O O O O O O O O O O O O O O B-tim O]\n",
    "        \n",
    "        Returns a list of labels that match the tokenized text -> [-100, 3,5,6,-100,...]\n",
    "        '''\n",
    "\n",
    "        #gives an array [ None , 0 , 1 ,2 ,... None]. Each index tells the word of reference of the token\n",
    "        word_ids = tokenized_input.word_ids()\n",
    "\n",
    "        previous_word_idx = None\n",
    "        label_ids = []\n",
    "\n",
    "        for word_idx in word_ids:\n",
    "\n",
    "            if word_idx is None:\n",
    "                label_ids.append(ignore_token)\n",
    "\n",
    "            #if its equal to the previous word we can add the same label id of the provious or -100 \n",
    "            else :\n",
    "                try:\n",
    "                  reference_tag = tags[word_idx]\n",
    "                  label_ids.append(tag2idx[reference_tag])\n",
    "                except:\n",
    "                  label_ids.append(ignore_token)\n",
    "              \n",
    "            \n",
    "            previous_word_idx = word_idx\n",
    "\n",
    "        return label_ids"
   ]
  },
  {
   "cell_type": "code",
   "execution_count": 11,
   "id": "6915db70",
   "metadata": {},
   "outputs": [],
   "source": [
    "def freeze_model(model,num_layers = 1):\n",
    "  \"\"\"\n",
    "  Freeze last num_layers of a model to prevent ctastrophic forgetting.\n",
    "  Doesn't seem to work weel, its better to fine tune the entire netwok\n",
    "  \"\"\"\n",
    "  for id , params in enumerate(model.parameters()):\n",
    "    if id == len(list(model.parameters())) - num_layers: \n",
    "      print(\"last layer unfreezed\")\n",
    "      params.requires_grad = True\n",
    "    else:\n",
    "      params.requires_grad = False\n",
    "  return model"
   ]
  },
  {
   "cell_type": "code",
   "execution_count": 12,
   "id": "008eb64a",
   "metadata": {},
   "outputs": [],
   "source": [
    "def train_loop(model, train_dataset, dev_dataset, optimizer,  batch_size, epochs):\n",
    "  \n",
    "  train_dataloader = DataLoader(train_dataset, batch_size = batch_size, shuffle = True)\n",
    "  dev_dataloader = DataLoader(dev_dataset, batch_size = batch_size, shuffle = True)\n",
    "\n",
    "  device = torch.device(\"cuda\" if torch.cuda.is_available() else \"cpu\")\n",
    "  model = model.to(device)\n",
    "\n",
    "  for epoch in range(epochs) : \n",
    "    \n",
    "    train_metrics = MetricsTracking()\n",
    "    total_loss_train = 0\n",
    "\n",
    "    model.train() #train mode\n",
    "\n",
    "    for train_data, train_label in tqdm(train_dataloader):\n",
    "\n",
    "      train_label = train_label.to(device)\n",
    "      '''\n",
    "      squeeze in order to match the sizes. From [batch,1,seq_len] --> [batch,seq_len] \n",
    "      '''\n",
    "      mask = train_data['attention_mask'].squeeze(1).to(device)\n",
    "      input_id = train_data['input_ids'].squeeze(1).to(device)\n",
    "\n",
    "      optimizer.zero_grad()\n",
    "      \n",
    "      output = model(input_id, mask, train_label)\n",
    "      loss, logits = output.loss, output.logits\n",
    "      predictions = logits.argmax(dim= -1) \n",
    "\n",
    "      #compute metrics\n",
    "      train_metrics.update(predictions, train_label)\n",
    "      total_loss_train += loss.item()\n",
    "\n",
    "      #grad step\n",
    "      loss.backward()\n",
    "      optimizer.step()\n",
    "    \n",
    "    '''\n",
    "    EVALUATION MODE\n",
    "    '''            \n",
    "    model.eval()\n",
    "\n",
    "    dev_metrics = MetricsTracking()\n",
    "    total_loss_dev = 0\n",
    "    \n",
    "    with torch.no_grad():\n",
    "      for dev_data, dev_label in dev_dataloader:\n",
    "\n",
    "        dev_label = dev_label.to(device)\n",
    "\n",
    "        mask = dev_data['attention_mask'].squeeze(1).to(device)\n",
    "        input_id = dev_data['input_ids'].squeeze(1).to(device)\n",
    "\n",
    "        output = model(input_id, mask, dev_label)\n",
    "        loss, logits = output.loss, output.logits\n",
    "\n",
    "        predictions = logits.argmax(dim= -1)     \n",
    "\n",
    "        dev_metrics.update(predictions, dev_label)\n",
    "        total_loss_dev += loss.item()\n",
    "    \n",
    "    train_results = train_metrics.return_avg_metrics(len(train_dataloader))\n",
    "    dev_results = dev_metrics.return_avg_metrics(len(dev_dataloader))\n",
    "\n",
    "    print(f\"TRAIN \\nLoss: {total_loss_train / len(train_dataset)} \\nMetrics {train_results}\\n\" ) \n",
    "    print(f\"VALIDATION \\nLoss {total_loss_dev / len(dev_dataset)} \\nMetrics{dev_results}\\n\" )   "
   ]
  },
  {
   "cell_type": "code",
   "execution_count": 14,
   "id": "bdef36e0",
   "metadata": {},
   "outputs": [],
   "source": [
    "#create tag-label mapping\n",
    "tag2idx, idx2tag , unseen_label, unique_tags = tags_mapping(df_train[\"tags\"])\n",
    "\n",
    "#create the label column from tag. Unseen labels will be tagged as \"O\"\n",
    "for df in [df_train, df_dev, df_test]:\n",
    "  df[\"labels\"] = df[\"tags\"].apply(lambda tags : tags_2_labels(tags, tag2idx))"
   ]
  },
  {
   "cell_type": "code",
   "execution_count": 16,
   "id": "954d751a",
   "metadata": {},
   "outputs": [
    {
     "data": {
      "application/vnd.jupyter.widget-view+json": {
       "model_id": "66a7d12c307f4572a9db1d1f06614d1f",
       "version_major": 2,
       "version_minor": 0
      },
      "text/plain": [
       "Downloading:   0%|          | 0.00/28.0 [00:00<?, ?B/s]"
      ]
     },
     "metadata": {},
     "output_type": "display_data"
    },
    {
     "data": {
      "application/vnd.jupyter.widget-view+json": {
       "model_id": "7197ec0ef5484bbf954f75b0da4e9b05",
       "version_major": 2,
       "version_minor": 0
      },
      "text/plain": [
       "Downloading:   0%|          | 0.00/483 [00:00<?, ?B/s]"
      ]
     },
     "metadata": {},
     "output_type": "display_data"
    },
    {
     "data": {
      "application/vnd.jupyter.widget-view+json": {
       "model_id": "71f61d1bfa314a2293d2dbd23503c205",
       "version_major": 2,
       "version_minor": 0
      },
      "text/plain": [
       "Downloading:   0%|          | 0.00/226k [00:00<?, ?B/s]"
      ]
     },
     "metadata": {},
     "output_type": "display_data"
    },
    {
     "data": {
      "application/vnd.jupyter.widget-view+json": {
       "model_id": "fb0c7bc508af4a1abf241494889dba20",
       "version_major": 2,
       "version_minor": 0
      },
      "text/plain": [
       "Downloading:   0%|          | 0.00/455k [00:00<?, ?B/s]"
      ]
     },
     "metadata": {},
     "output_type": "display_data"
    }
   ],
   "source": [
    "#original text\n",
    "text = df_train[\"sentence\"].values.tolist()\n",
    "\n",
    "#toeknized text\n",
    "tokenizer = AutoTokenizer.from_pretrained(\"distilbert-base-uncased\")\n",
    "text_tokenized = tokenizer(text , padding = \"max_length\" , truncation = True, return_tensors = \"pt\" )\n",
    "\n",
    "#mapping token to original word\n",
    "word_ids = text_tokenized.word_ids()"
   ]
  },
  {
   "cell_type": "code",
   "execution_count": null,
   "id": "1558dca1",
   "metadata": {},
   "outputs": [
    {
     "data": {
      "application/vnd.jupyter.widget-view+json": {
       "model_id": "18fdcc7274594f0e883614876efeca54",
       "version_major": 2,
       "version_minor": 0
      },
      "text/plain": [
       "Downloading:   0%|          | 0.00/256M [00:00<?, ?B/s]"
      ]
     },
     "metadata": {},
     "output_type": "display_data"
    },
    {
     "name": "stderr",
     "output_type": "stream",
     "text": [
      "\r",
      "  0%|                                                    | 0/25 [00:00<?, ?it/s]"
     ]
    }
   ],
   "source": [
    "model = DistilbertNER(len(unique_tags))\n",
    "#Prevent Catastrofic Forgetting\n",
    "#model = freeze_model(model, num_layers = 2)\n",
    "\n",
    "#datasets\n",
    "train_dataset = NerDataset(df_train)\n",
    "dev_dataset = NerDataset(df_dev)\n",
    "\n",
    "lr = 1e-2\n",
    "optimizer = SGD(model.parameters(), lr=lr, momentum = 0.9)  \n",
    "\n",
    "\n",
    "#MAIN\n",
    "parameters = {\n",
    "    \"model\": model,\n",
    "    \"train_dataset\": train_dataset,\n",
    "    \"dev_dataset\" : dev_dataset,\n",
    "    \"optimizer\" : optimizer,\n",
    "    \"batch_size\" : 32,\n",
    "    \"epochs\" : 8\n",
    "}\n",
    "\n",
    "train_loop(**parameters)"
   ]
  },
  {
   "cell_type": "code",
   "execution_count": null,
   "id": "8b6e3e5e",
   "metadata": {},
   "outputs": [],
   "source": []
  }
 ],
 "metadata": {
  "kernelspec": {
   "display_name": "Python 3 (ipykernel)",
   "language": "python",
   "name": "python3"
  },
  "language_info": {
   "codemirror_mode": {
    "name": "ipython",
    "version": 3
   },
   "file_extension": ".py",
   "mimetype": "text/x-python",
   "name": "python",
   "nbconvert_exporter": "python",
   "pygments_lexer": "ipython3",
   "version": "3.8.10"
  }
 },
 "nbformat": 4,
 "nbformat_minor": 5
}
